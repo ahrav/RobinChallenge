{
 "cells": [
  {
   "cell_type": "code",
   "execution_count": 95,
   "metadata": {},
   "outputs": [],
   "source": [
    "import pandas as pd\n",
    "import random\n",
    "from operator import attrgetter"
   ]
  },
  {
   "cell_type": "code",
   "execution_count": 2,
   "metadata": {},
   "outputs": [],
   "source": [
    "applicants = pd.read_csv('applicants.csv')"
   ]
  },
  {
   "cell_type": "code",
   "execution_count": 6,
   "metadata": {},
   "outputs": [],
   "source": [
    "df = pd.DataFrame(applicants)"
   ]
  },
  {
   "cell_type": "code",
   "execution_count": 7,
   "metadata": {},
   "outputs": [
    {
     "data": {
      "text/html": [
       "<div>\n",
       "<style scoped>\n",
       "    .dataframe tbody tr th:only-of-type {\n",
       "        vertical-align: middle;\n",
       "    }\n",
       "\n",
       "    .dataframe tbody tr th {\n",
       "        vertical-align: top;\n",
       "    }\n",
       "\n",
       "    .dataframe thead th {\n",
       "        text-align: right;\n",
       "    }\n",
       "</style>\n",
       "<table border=\"1\" class=\"dataframe\">\n",
       "  <thead>\n",
       "    <tr style=\"text-align: right;\">\n",
       "      <th></th>\n",
       "      <th>Name</th>\n",
       "      <th>Health</th>\n",
       "      <th>Damage</th>\n",
       "      <th>Attacks</th>\n",
       "      <th>Dodge</th>\n",
       "      <th>Critical</th>\n",
       "      <th>Initiative</th>\n",
       "    </tr>\n",
       "  </thead>\n",
       "  <tbody>\n",
       "    <tr>\n",
       "      <th>0</th>\n",
       "      <td>Tom Cruise</td>\n",
       "      <td>136</td>\n",
       "      <td>6</td>\n",
       "      <td>4</td>\n",
       "      <td>10</td>\n",
       "      <td>10</td>\n",
       "      <td>4</td>\n",
       "    </tr>\n",
       "    <tr>\n",
       "      <th>1</th>\n",
       "      <td>Sponge Bob</td>\n",
       "      <td>110</td>\n",
       "      <td>4</td>\n",
       "      <td>5</td>\n",
       "      <td>12</td>\n",
       "      <td>12</td>\n",
       "      <td>5</td>\n",
       "    </tr>\n",
       "    <tr>\n",
       "      <th>2</th>\n",
       "      <td>James Earl Jones</td>\n",
       "      <td>175</td>\n",
       "      <td>8</td>\n",
       "      <td>3</td>\n",
       "      <td>2</td>\n",
       "      <td>8</td>\n",
       "      <td>3</td>\n",
       "    </tr>\n",
       "    <tr>\n",
       "      <th>3</th>\n",
       "      <td>Bob Barker</td>\n",
       "      <td>112</td>\n",
       "      <td>2</td>\n",
       "      <td>8</td>\n",
       "      <td>4</td>\n",
       "      <td>16</td>\n",
       "      <td>2</td>\n",
       "    </tr>\n",
       "    <tr>\n",
       "      <th>4</th>\n",
       "      <td>Tonya Harding</td>\n",
       "      <td>108</td>\n",
       "      <td>7</td>\n",
       "      <td>4</td>\n",
       "      <td>12</td>\n",
       "      <td>18</td>\n",
       "      <td>4</td>\n",
       "    </tr>\n",
       "    <tr>\n",
       "      <th>5</th>\n",
       "      <td>Charles Barkley</td>\n",
       "      <td>220</td>\n",
       "      <td>12</td>\n",
       "      <td>2</td>\n",
       "      <td>4</td>\n",
       "      <td>10</td>\n",
       "      <td>2</td>\n",
       "    </tr>\n",
       "    <tr>\n",
       "      <th>6</th>\n",
       "      <td>Peter Piper</td>\n",
       "      <td>116</td>\n",
       "      <td>4</td>\n",
       "      <td>6</td>\n",
       "      <td>14</td>\n",
       "      <td>14</td>\n",
       "      <td>6</td>\n",
       "    </tr>\n",
       "    <tr>\n",
       "      <th>7</th>\n",
       "      <td>Harry Potter</td>\n",
       "      <td>96</td>\n",
       "      <td>16</td>\n",
       "      <td>2</td>\n",
       "      <td>16</td>\n",
       "      <td>15</td>\n",
       "      <td>6</td>\n",
       "    </tr>\n",
       "    <tr>\n",
       "      <th>8</th>\n",
       "      <td>Shamu</td>\n",
       "      <td>280</td>\n",
       "      <td>24</td>\n",
       "      <td>1</td>\n",
       "      <td>0</td>\n",
       "      <td>0</td>\n",
       "      <td>0</td>\n",
       "    </tr>\n",
       "    <tr>\n",
       "      <th>9</th>\n",
       "      <td>Bill Gates</td>\n",
       "      <td>124</td>\n",
       "      <td>6</td>\n",
       "      <td>4</td>\n",
       "      <td>8</td>\n",
       "      <td>12</td>\n",
       "      <td>4</td>\n",
       "    </tr>\n",
       "  </tbody>\n",
       "</table>\n",
       "</div>"
      ],
      "text/plain": [
       "               Name  Health  Damage  Attacks  Dodge  Critical  Initiative\n",
       "0        Tom Cruise     136       6        4     10        10           4\n",
       "1        Sponge Bob     110       4        5     12        12           5\n",
       "2  James Earl Jones     175       8        3      2         8           3\n",
       "3        Bob Barker     112       2        8      4        16           2\n",
       "4     Tonya Harding     108       7        4     12        18           4\n",
       "5   Charles Barkley     220      12        2      4        10           2\n",
       "6       Peter Piper     116       4        6     14        14           6\n",
       "7      Harry Potter      96      16        2     16        15           6\n",
       "8             Shamu     280      24        1      0         0           0\n",
       "9        Bill Gates     124       6        4      8        12           4"
      ]
     },
     "execution_count": 7,
     "metadata": {},
     "output_type": "execute_result"
    }
   ],
   "source": [
    "df"
   ]
  },
  {
   "cell_type": "code",
   "execution_count": 82,
   "metadata": {},
   "outputs": [],
   "source": [
    "class Applicant:\n",
    "    def __init__(\n",
    "        self, name, health, damage, attacks, dodge, critical, initiative\n",
    "    ):\n",
    "        self.name = name\n",
    "        self.health = health\n",
    "        self.damage = damage\n",
    "        self.attacks = attacks\n",
    "        self.initial_attacks = attacks\n",
    "        self.dodge = dodge\n",
    "        self.critical = critical\n",
    "        self.initiative = initiative\n",
    "        self.wins = 0\n",
    "        self.losses = 0\n",
    "\n",
    "    def initializer():\n",
    "        return random.uniform(0, 1)\n",
    "\n",
    "    def check_winner(self, char1, char2):\n",
    "        if char1.health <= 0:\n",
    "            char2.wins += 1\n",
    "            char1.losses += 1\n",
    "            print(f\"{str(char2.name)} wins\")\n",
    "        elif char2.health <= 0:\n",
    "            char1.wins += 1\n",
    "            char2.losses += 1\n",
    "            print(f\"{str(char1.name)} wins\")\n",
    "\n",
    "    def fight(self, enemy, counter=1):\n",
    "        counter = counter\n",
    "        while (self.health > 0) and (enemy.health > 0):\n",
    "            print(f\"Round {counter}:\")\n",
    "            while (self.attacks > 0) and (enemy.attacks > 0):\n",
    "                init = random.uniform(0, 1)\n",
    "                if init < 0.50:\n",
    "                    print(\n",
    "                        f\"{self.name} hits {enemy.name} for {self.damage} ({enemy.health} -> {enemy.health - self.damage})\"\n",
    "                    )\n",
    "                    enemy.health -= self.damage\n",
    "                    self.attacks -= 1\n",
    "                    return enemy.fight(self, counter)\n",
    "                else:\n",
    "                    print(\n",
    "                        f\"{enemy.name} hits {self.name} for {enemy.damage} ({self.health} -> {self.health - enemy.damage})\"\n",
    "                    )\n",
    "                    self.health -= enemy.damage\n",
    "                    enemy.attacks -= 1\n",
    "                    return self.fight(enemy, counter)\n",
    "            while self.attacks > 0:\n",
    "                print(\n",
    "                    f\"{self.name} hits {enemy.name} for {self.damage} ({enemy.health} -> {enemy.health - self.damage})\"\n",
    "                )\n",
    "                enemy.health -= self.damage\n",
    "                self.attacks -= 1\n",
    "            while enemy.attacks > 0:\n",
    "                print(\n",
    "                    f\"{enemy.name} hits {self.name} for {enemy.damage} ({self.health} -> {self.health - enemy.damage})\"\n",
    "                )\n",
    "                self.health -= enemy.damage\n",
    "                enemy.attacks -= 1\n",
    "            self.attacks = self.initial_attacks\n",
    "            enemy.attacks = enemy.initial_attacks\n",
    "            counter += 1\n",
    "        self.check_winner(self, enemy)"
   ]
  },
  {
   "cell_type": "code",
   "execution_count": 83,
   "metadata": {},
   "outputs": [],
   "source": [
    "applicants = [Applicant(name=row['Name'], health=row['Health'], damage=row['Damage'], attacks=row['Attacks'], dodge=row['Dodge'], critical=row['Critical'], initiative=row['Initiative']) for index, row in df.iterrows()]"
   ]
  },
  {
   "cell_type": "code",
   "execution_count": 84,
   "metadata": {},
   "outputs": [
    {
     "data": {
      "text/plain": [
       "[<__main__.Applicant at 0x1154e7208>,\n",
       " <__main__.Applicant at 0x1154e7668>,\n",
       " <__main__.Applicant at 0x1154e72e8>,\n",
       " <__main__.Applicant at 0x1154e7198>,\n",
       " <__main__.Applicant at 0x1154e74a8>,\n",
       " <__main__.Applicant at 0x1154e70b8>,\n",
       " <__main__.Applicant at 0x1154e79e8>,\n",
       " <__main__.Applicant at 0x1154e7828>,\n",
       " <__main__.Applicant at 0x1154e7c18>,\n",
       " <__main__.Applicant at 0x1154e7518>]"
      ]
     },
     "execution_count": 84,
     "metadata": {},
     "output_type": "execute_result"
    }
   ],
   "source": [
    "applicants"
   ]
  },
  {
   "cell_type": "code",
   "execution_count": 91,
   "metadata": {},
   "outputs": [
    {
     "name": "stdout",
     "output_type": "stream",
     "text": [
      "Sponge Bob wins\n",
      "James Earl Jones wins\n",
      "Bob Barker wins\n",
      "Tonya Harding wins\n",
      "Charles Barkley wins\n",
      "Peter Piper wins\n",
      "Harry Potter wins\n",
      "Shamu wins\n",
      "Bill Gates wins\n",
      "James Earl Jones wins\n",
      "Bob Barker wins\n",
      "Tonya Harding wins\n",
      "Charles Barkley wins\n",
      "Peter Piper wins\n",
      "Harry Potter wins\n",
      "Shamu wins\n",
      "Bill Gates wins\n",
      "Bob Barker wins\n",
      "Tonya Harding wins\n",
      "Charles Barkley wins\n",
      "Peter Piper wins\n",
      "Harry Potter wins\n",
      "Shamu wins\n",
      "Bill Gates wins\n",
      "Tonya Harding wins\n",
      "Charles Barkley wins\n",
      "Peter Piper wins\n",
      "Harry Potter wins\n",
      "Shamu wins\n",
      "Bill Gates wins\n",
      "Charles Barkley wins\n",
      "Peter Piper wins\n",
      "Harry Potter wins\n",
      "Shamu wins\n",
      "Bill Gates wins\n",
      "Peter Piper wins\n",
      "Harry Potter wins\n",
      "Shamu wins\n",
      "Bill Gates wins\n",
      "Harry Potter wins\n",
      "Shamu wins\n",
      "Bill Gates wins\n",
      "Shamu wins\n",
      "Bill Gates wins\n",
      "Shamu wins\n"
     ]
    }
   ],
   "source": [
    "for i in range(len(applicants)):\n",
    "    for j in range(i +1, len(applicants)):\n",
    "        applicants[i].fight(applicants[j])"
   ]
  },
  {
   "cell_type": "code",
   "execution_count": 93,
   "metadata": {},
   "outputs": [],
   "source": [
    "total_wins = [applicant for applicant in applicants]"
   ]
  },
  {
   "cell_type": "code",
   "execution_count": 96,
   "metadata": {},
   "outputs": [],
   "source": [
    "winner = max(total_wins, key=attrgetter('wins'))"
   ]
  },
  {
   "cell_type": "code",
   "execution_count": 98,
   "metadata": {},
   "outputs": [
    {
     "data": {
      "text/plain": [
       "'Shamu'"
      ]
     },
     "execution_count": 98,
     "metadata": {},
     "output_type": "execute_result"
    }
   ],
   "source": [
    "winner.name"
   ]
  },
  {
   "cell_type": "code",
   "execution_count": null,
   "metadata": {},
   "outputs": [],
   "source": []
  }
 ],
 "metadata": {
  "kernelspec": {
   "display_name": "Python 3",
   "language": "python",
   "name": "python3"
  },
  "language_info": {
   "codemirror_mode": {
    "name": "ipython",
    "version": 3
   },
   "file_extension": ".py",
   "mimetype": "text/x-python",
   "name": "python",
   "nbconvert_exporter": "python",
   "pygments_lexer": "ipython3",
   "version": "3.7.3"
  }
 },
 "nbformat": 4,
 "nbformat_minor": 2
}
